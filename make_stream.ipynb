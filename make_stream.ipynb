{
 "cells": [
  {
   "cell_type": "code",
   "execution_count": 23,
   "metadata": {
    "pycharm": {
     "name": "#%%\n"
    }
   },
   "outputs": [],
   "source": [
    "import json\n",
    "import os\n",
    "import random\n",
    "import numpy as np\n",
    "import scipy.stats as stats\n",
    "\n",
    "dataset = 'cifar10'\n",
    "# dataset_dir = f'../../Datasets/{dataset}'\n",
    "dataset_dir = f'dataset/{dataset}'\n",
    "train_dir = os.path.join(dataset_dir, 'train')\n",
    "val_dir = os.path.join(dataset_dir, 'test')"
   ]
  },
  {
   "cell_type": "code",
   "execution_count": 26,
   "metadata": {
    "pycharm": {
     "name": "#%%\n"
    }
   },
   "outputs": [],
   "source": [
    "repeats = [1]\n",
    "sigmas = [0.1]\n",
    "seeds = [1, 2, 3]\n",
    "init_cls = 1.0"
   ]
  },
  {
   "cell_type": "code",
   "execution_count": 8,
   "metadata": {
    "pycharm": {
     "name": "#%%\n"
    }
   },
   "outputs": [],
   "source": [
    "for repeat in repeats:\n",
    "    for sigma in sigmas:\n",
    "        for seed in seeds:\n",
    "            random.seed(seed)\n",
    "            np.random.seed(seed)\n",
    "            cls_list = os.listdir(train_dir)\n",
    "            n_classes = len(cls_list)\n",
    "            random.shuffle(cls_list)\n",
    "            cls_dict = {cls:i for i, cls in enumerate(cls_list)}\n",
    "            n_cls_seen = np.round(n_classes*(init_cls + (1-init_cls)*(np.arange(repeat)+1)/repeat)).astype(np.int)\n",
    "            cls_order_list = np.arange(n_classes)\n",
    "            np.random.shuffle(cls_order_list)\n",
    "            cls_increment_time = np.zeros(n_classes)\n",
    "            for i in range(repeat):\n",
    "                if i > 0:\n",
    "                    cls_increment_time[cls_order_list[n_cls_seen[i-1]:n_cls_seen[i]]] = i\n",
    "            samples_list = []\n",
    "            for cls in cls_list:\n",
    "                cls_sample_list = os.listdir(os.path.join(train_dir, cls))\n",
    "                random.shuffle(cls_sample_list)\n",
    "                samples_list.append(cls_sample_list)\n",
    "            stream = []\n",
    "            for i in range(n_classes):\n",
    "                times = np.random.normal(i/n_classes, sigma, size=len(samples_list[i]))\n",
    "                choice = np.random.choice(repeat, size=len(samples_list[i]))\n",
    "                times += choice\n",
    "                for ii, sample in enumerate(samples_list[i]):\n",
    "                    if choice[ii] >= cls_increment_time[i]:\n",
    "                        stream.append({'file_name': os.path.join('train/'+cls_list[i], samples_list[i][ii]), 'klass': cls_list[i], 'label':i, 'time':times[ii]})\n",
    "            random.shuffle(stream)\n",
    "            stream = sorted(stream, key=lambda d: d['time'])\n",
    "            data = {'cls_dict':cls_dict, 'stream':stream, 'cls_addition':list(cls_increment_time)}\n",
    "\n",
    "            with open(f'collections/{dataset}/{dataset}_sigma{int(sigma*100)}_repeat{repeat}_init{int(init_cls*100)}_seed{seed}.json', 'w') as fp:\n",
    "                json.dump(data, fp)"
   ]
  },
  {
   "cell_type": "code",
   "execution_count": 16,
   "metadata": {
    "pycharm": {
     "name": "#%%\n"
    }
   },
   "outputs": [],
   "source": [
    "val = []\n",
    "cls_list = os.listdir(train_dir)\n",
    "n_classes = len(cls_list)\n",
    "cls_dict = {cls:i for i, cls in enumerate(cls_list)}\n",
    "for i in range(n_classes):\n",
    "    cls_val_list = os.listdir(os.path.join(val_dir, cls_list[i]))\n",
    "    for ii, sample in enumerate(cls_val_list):\n",
    "        val.append({'file_name': os.path.join('val/', cls_val_list[ii]), 'klass': cls_list[i], 'label':i})\n",
    "\n",
    "with open(f'collections/{dataset}/{dataset}_val2.json', 'w') as fp:\n",
    "    json.dump(val, fp)"
   ]
  },
  {
   "cell_type": "code",
   "execution_count": null,
   "metadata": {
    "pycharm": {
     "name": "#%%\n"
    }
   },
   "outputs": [],
   "source": []
  }
 ],
 "metadata": {
  "kernelspec": {
   "display_name": "Python 3",
   "language": "python",
   "name": "python3"
  },
  "language_info": {
   "codemirror_mode": {
    "name": "ipython",
    "version": 3
   },
   "file_extension": ".py",
   "mimetype": "text/x-python",
   "name": "python",
   "nbconvert_exporter": "python",
   "pygments_lexer": "ipython3",
   "version": "3.7.4"
  }
 },
 "nbformat": 4,
 "nbformat_minor": 1
}
